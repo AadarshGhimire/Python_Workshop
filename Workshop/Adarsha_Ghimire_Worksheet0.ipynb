{
 "cells": [
  {
   "cell_type": "code",
   "execution_count": 1,
   "id": "a6653f30-ac42-4285-b484-f6e375c614d6",
   "metadata": {},
   "outputs": [
    {
     "name": "stdout",
     "output_type": "stream",
     "text": [
      "Cold [8.2, 7.9, 9.0, 8.5, 7.7, 8.4, 9.5, 8.1, 7.6, 8.0, 7.8, 8.7, 9.2, 8.3, 8.9, 7.8]\n",
      "Mild [14.1, 13.5, 13.0, 12.9, 13.3, 14.0, 13.4, 14.2, 12.8, 13.7, 13.6, 13.8, 13.9, 12.7, 13.1, 12.5]\n",
      "Comfortable [17.4, 18.0, 17.8, 16.5, 17.2, 16.7, 18.3, 17.9, 17.0, 16.8, 17.5, 17.1, 18.1, 16.4, 18.2, 16.6]\n"
     ]
    }
   ],
   "source": [
    "# Task1 Classify Temperatures\n",
    "temperatures = [8.2, 17.4, 14.1, 7.9, 18.0, 13.5, 9.0, 17.8, 13.0, 8.5,\n",
    "16.5, 12.9, 7.7, 17.2, 13.3, 8.4, 16.7, 14.0, 9.5, 18.3, 13.4, 8.1,\n",
    "17.9, 14.2, 7.6, 17.0, 12.8, 8.0, 16.8, 13.7, 7.8, 17.5, 13.6, 8.7,\n",
    "17.1, 13.8, 9.2, 18.1, 13.9, 8.3, 16.4, 12.7, 8.9, 18.2, 13.1, 7.8,\n",
    "16.6, 12.5]\n",
    "\n",
    "Cold = []\n",
    "Mild = []\n",
    "Comfortable = []\n",
    "\n",
    "for temperature in temperatures:\n",
    "    if temperature < 10:\n",
    "        Cold.append(temperature)\n",
    "    elif temperature >= 10 and temperature < 15:\n",
    "        Mild.append(temperature)\n",
    "    elif temperature >=15 and temperature <= 20:\n",
    "        Comfortable.append(temperature)\n",
    "\n",
    "print(\"Cold: \",Cold)\n",
    "print(\"Mild: \", Mild)\n",
    "print(\"Comfortable: \", Comfortable)"
   ]
  },
  {
   "cell_type": "code",
   "execution_count": 2,
   "id": "d488ee74-bd18-4a3d-80fa-2bb9a16c8227",
   "metadata": {},
   "outputs": [
    {
     "name": "stdout",
     "output_type": "stream",
     "text": [
      "[32.0, 86.0, 104.0]\n"
     ]
    }
   ],
   "source": [
    "#Task3 Convert Temperatures from celsius to Fahrenheit\n",
    "temp_celsius =[0,30,40]\n",
    "\n",
    "Temperature_Fahrenheit =[]\n",
    "for Temperature in temp_celsius:\n",
    "    Fahrenheit = (Temperature * 9/5)+32\n",
    "    Temperature_Fahrenheit.append(Fahrenheit)\n",
    "\n",
    "print(Temperature_Fahrenheit)"
   ]
  },
  {
   "cell_type": "code",
   "execution_count": 3,
   "id": "fe5a6aeb-bcb8-4a22-a92a-c045060f3da4",
   "metadata": {},
   "outputs": [
    {
     "name": "stdout",
     "output_type": "stream",
     "text": [
      "Night temperature [8.2, 7.9, 9.0, 8.5, 7.7, 8.4, 9.5, 8.1, 7.6, 8.0, 7.8, 8.7, 9.2, 8.3, 8.9, 7.8]\n",
      "Day Temperature [17.4, 18.0, 17.8, 16.5, 17.2, 16.7, 18.3, 17.9, 17.0, 16.8, 17.5, 17.1, 18.1, 16.4, 18.2, 16.6]\n",
      "Evening Temperature [14.1, 13.5, 13.0, 12.9, 13.3, 14.0, 13.4, 14.2, 12.8, 13.7, 13.6, 13.8, 13.9, 12.7, 13.1, 12.5]\n",
      "Average Temperature of Day =  17.34375\n"
     ]
    }
   ],
   "source": [
    "#Task4 Analyze Temperature Patterns by Time Day\n",
    "\n",
    "Temperature = [8.2, 17.4, 14.1, 7.9, 18.0, 13.5, 9.0, 17.8, 13.0, 8.5,\n",
    "16.5, 12.9, 7.7, 17.2, 13.3, 8.4, 16.7, 14.0, 9.5, 18.3, 13.4, 8.1,\n",
    "17.9, 14.2, 7.6, 17.0, 12.8, 8.0, 16.8, 13.7, 7.8, 17.5, 13.6, 8.7,\n",
    "17.1, 13.8, 9.2, 18.1, 13.9, 8.3, 16.4, 12.7, 8.9, 18.2, 13.1, 7.8,\n",
    "16.6, 12.5]\n",
    "\n",
    "Night_temp = []\n",
    "Day_temp = []\n",
    "Evening_temp = []\n",
    "\n",
    "for i in range(0, len(Temperature),3):\n",
    "    Night_temp.append(Temperature [i])\n",
    "    Day_temp.append(Temperature [i+1])\n",
    "    Evening_temp.append(Temperature [i+2])\n",
    "\n",
    "print(\"Night temperature\", Night_temp)\n",
    "print(\"Day Temperature\", Day_temp)\n",
    "print(\"Evening Temperature\", Evening_temp)\n",
    "\n",
    "Average_Day_Temp = sum(Day_temp) / len(Day_temp)\n",
    "print(\"Average Temperature of Day = \", Average_Day_Temp) "
   ]
  },
  {
   "cell_type": "code",
   "execution_count": 1,
   "id": "f4d428ce-5178-4b78-9d8f-df59eabbf396",
   "metadata": {},
   "outputs": [
    {
     "name": "stdout",
     "output_type": "stream",
     "text": [
      "36\n"
     ]
    }
   ],
   "source": [
    "#Sum of Nested List\n",
    "def sum_nested_list(nested_list):\n",
    "    total=0\n",
    "    for element in nested_list:\n",
    "        if type(element) == list:\n",
    "            total +=sum_nested_list(element)\n",
    "        else:\n",
    "            total += element \n",
    "    return total\n",
    "\n",
    "print(sum_nested_list([1 ,[2,[3,4],5],6,[7,8]]))"
   ]
  },
  {
   "cell_type": "code",
   "execution_count": 4,
   "id": "b3156fde-aacc-45c1-b6a8-9d2b0c1fc623",
   "metadata": {},
   "outputs": [
    {
     "name": "stdout",
     "output_type": "stream",
     "text": [
      "1400\n"
     ]
    }
   ],
   "source": [
    "#Directory Size Calculation\n",
    "directory_structure={\n",
    " \"file1.txt\":200,\n",
    " \"file2.txt\":300,\n",
    " \"subdir1\":{\n",
    " \"file3.txt\":400,\n",
    " \"file4.txt\":100\n",
    " },\n",
    " \"subdir2\":{\n",
    " \"subsubdir1\":{\n",
    " \"file5.txt\":250\n",
    " },\n",
    "      \"file6.txt\": 150\n",
    " }\n",
    " }\n",
    "def calculate_directory_size(directory):\n",
    "    size = 0\n",
    "    for value in directory:\n",
    "        if type(directory[value]) == int:\n",
    "            size += directory[value]\n",
    "        else:\n",
    "            size += calculate_directory_size(directory[value])\n",
    "    return size\n",
    "print(calculate_directory_size(directory_structure))"
   ]
  },
  {
   "cell_type": "code",
   "execution_count": 1,
   "id": "f244e9f4-e120-49e3-986b-89abda04892f",
   "metadata": {},
   "outputs": [
    {
     "name": "stdout",
     "output_type": "stream",
     "text": [
      "abc\n",
      "acb\n",
      "bac\n",
      "bca\n",
      "cba\n",
      "cab\n"
     ]
    }
   ],
   "source": [
    "#permutations of string\n",
    "def get_permutation(s, i=0):\n",
    "    if(i==len(s)):\n",
    "        print(''.join(s))\n",
    "\n",
    "    for j in range(i, len(s)):\n",
    "        s[i], s[j] = s[j], s[i]\n",
    "        get_permutation(s, i+1)\n",
    "        s[i], s[j] = s[j], s[i]\n",
    "\n",
    "get_permutation(list('abc'))"
   ]
  },
  {
   "cell_type": "code",
   "execution_count": 5,
   "id": "644003e1-292c-4563-800a-1e7a8447629a",
   "metadata": {},
   "outputs": [
    {
     "name": "stdout",
     "output_type": "stream",
     "text": [
      "5\n"
     ]
    }
   ],
   "source": [
    "#Fibonacci sequence with memoization\n",
    "def fibonacci(n, memo={}):\n",
    "    if n in memo:\n",
    "        return memo[n]\n",
    "    if n<=2:\n",
    "        return 1\n",
    "    memo[n] = fibonacci(n-1,memo) + fibonacci(n-2,memo)\n",
    "    return memo[n]\n",
    "print(fibonacci(5))"
   ]
  },
  {
   "cell_type": "code",
   "execution_count": 6,
   "id": "b84ce654-93a6-42b4-88e7-c768809ba19b",
   "metadata": {},
   "outputs": [
    {
     "name": "stdout",
     "output_type": "stream",
     "text": [
      "[[0, 0, 0, 0], [0, 0, 0, 0], [0, 0, 0, 0], [0, 0, 0, 0], [0, 0, 0, 0], [0, 0, 0, 0]]\n",
      "3\n"
     ]
    }
   ],
   "source": [
    "#LCS\n",
    "def longest_common_subsequence(s1,s2):\n",
    "    n = len(s1)\n",
    "    m = len(s2)\n",
    "    dp = [[0 for j in range(m+1)] for i in range(n+1)]\n",
    "    print(dp)\n",
    "    for i in range(1,n+1):\n",
    "        for j in range(1,m+1):\n",
    "            if s1[i-1] == s2[j-1]:\n",
    "                dp[i][j] = dp[i-1][j-1] + 1\n",
    "            else:\n",
    "                dp[i][j] = max(dp[i-1][j],dp[i][j-1])\n",
    "    return dp[n][m]\n",
    "\n",
    "s1 = \"ABCDE\"\n",
    "s2 = \"ABC\"\n",
    "\n",
    "print(longest_common_subsequence(s1,s2))"
   ]
  },
  {
   "cell_type": "code",
   "execution_count": 2,
   "id": "d529c21f-ec75-4b2d-aed6-47618fd7acba",
   "metadata": {},
   "outputs": [
    {
     "name": "stdout",
     "output_type": "stream",
     "text": [
      "9\n"
     ]
    }
   ],
   "source": [
    "#Knapsack\n",
    "def knapsack(W, wt, val, n):\n",
    "    dp = [[0 for x in range(W + 1)] for x in range(n + 1)]\n",
    "    for i in range(n + 1):\n",
    "        for w in range(W + 1):\n",
    "            if i == 0 or w == 0:\n",
    "                dp[i][w] = 0\n",
    "            elif wt[i-1] > w:\n",
    "                dp[i][w] = dp[i-1][w]\n",
    "            else:\n",
    "                dp[i][w] = max(dp[i-1][w], val[i-1] + dp[i-1][w-wt[i-1]])\n",
    "    return dp[n][W]\n",
    "\n",
    "val = [1, 4, 5, 7]\n",
    "wt = [1, 3, 4, 5]\n",
    "W = 7\n",
    "n = len(val)\n",
    "result = knapsack(W, wt, val, n)\n",
    "print(result)"
   ]
  },
  {
   "cell_type": "code",
   "execution_count": null,
   "id": "b5ce0d73-d71a-4461-8712-c5149ab1a771",
   "metadata": {},
   "outputs": [],
   "source": []
  }
 ],
 "metadata": {
  "kernelspec": {
   "display_name": "Python 3 (ipykernel)",
   "language": "python",
   "name": "python3"
  },
  "language_info": {
   "codemirror_mode": {
    "name": "ipython",
    "version": 3
   },
   "file_extension": ".py",
   "mimetype": "text/x-python",
   "name": "python",
   "nbconvert_exporter": "python",
   "pygments_lexer": "ipython3",
   "version": "3.13.0"
  }
 },
 "nbformat": 4,
 "nbformat_minor": 5
}
