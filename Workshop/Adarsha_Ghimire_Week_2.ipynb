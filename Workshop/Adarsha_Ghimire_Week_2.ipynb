{
  "nbformat": 4,
  "nbformat_minor": 0,
  "metadata": {
    "colab": {
      "provenance": []
    },
    "kernelspec": {
      "name": "python3",
      "display_name": "Python 3"
    },
    "language_info": {
      "name": "python"
    }
  },
  "cells": [
    {
      "cell_type": "code",
      "source": [
        "import pandas as pd\n",
        "data = [10,20,30,40]\n",
        "series = pd.Series(data)\n",
        "print(series)"
      ],
      "metadata": {
        "colab": {
          "base_uri": "https://localhost:8080/"
        },
        "id": "xje0v4QTGD03",
        "outputId": "a6ef4076-2d4a-4944-e6ed-6169dc245a02"
      },
      "execution_count": null,
      "outputs": [
        {
          "output_type": "stream",
          "name": "stdout",
          "text": [
            "0    10\n",
            "1    20\n",
            "2    30\n",
            "3    40\n",
            "dtype: int64\n"
          ]
        }
      ]
    },
    {
      "cell_type": "code",
      "source": [
        "#Data-Structure and index\n",
        "import pandas as pd\n",
        "series = pd.Series([10,20,30])\n",
        "# print(series)\n",
        "series = pd.Series([10,20,30], index=['a','b','c'])\n",
        "# print(series)\n",
        "\n",
        "date = pd.date_range('2023-01-01', periods=5)\n",
        "series = pd.Series([10,20,30,40,50], index=date)\n",
        "# print(series)\n",
        "series.index = ['a','b','c','d','e']\n",
        "# print(series.index)\n",
        "\n",
        "df = pd.DataFrame({'A':[1,2]}, index=['a','b'])\n",
        "df.reset_index(inplace=True)\n",
        "print(df)"
      ],
      "metadata": {
        "colab": {
          "base_uri": "https://localhost:8080/"
        },
        "id": "tcH1TMyNGFXc",
        "outputId": "3c0a4914-9238-4e8a-b955-f6319324a34e"
      },
      "execution_count": null,
      "outputs": [
        {
          "output_type": "stream",
          "name": "stdout",
          "text": [
            "  index  A\n",
            "0     a  1\n",
            "1     b  2\n"
          ]
        }
      ]
    },
    {
      "cell_type": "code",
      "source": [
        "import pandas as pd\n",
        "df = pd.DataFrame({\"Bob\":[\"I liked it.\", \"It was awful.\"], \"Sue\":[\"Pretty good.\", \"Bland.\"]}, index=[\"Product A\", \"Product B\"])\n",
        "print(df)"
      ],
      "metadata": {
        "colab": {
          "base_uri": "https://localhost:8080/"
        },
        "id": "HN8BoP6LGHSf",
        "outputId": "84e1d196-487c-41de-c3d9-a65889b54b36"
      },
      "execution_count": null,
      "outputs": [
        {
          "output_type": "stream",
          "name": "stdout",
          "text": [
            "                     Bob           Sue\n",
            "Product A    I liked it.  Pretty good.\n",
            "Product B  It was awful.        Bland.\n"
          ]
        }
      ]
    },
    {
      "cell_type": "code",
      "source": [
        "import pandas as pd\n",
        "dataset = pd.read_csv('drive/MyDrive/Datasheets/bank .csv')\n",
        "print(dataset.head())"
      ],
      "metadata": {
        "colab": {
          "base_uri": "https://localhost:8080/"
        },
        "id": "TAoHPq33GJpi",
        "outputId": "b21580d7-6b2f-4ce2-da73-b82b49147f4c"
      },
      "execution_count": null,
      "outputs": [
        {
          "output_type": "stream",
          "name": "stdout",
          "text": [
            "   age           job  marital  education default  balance housing loan  \\\n",
            "0   58    management  married   tertiary      no     2143     yes   no   \n",
            "1   44    technician   single  secondary      no       29     yes   no   \n",
            "2   33  entrepreneur  married  secondary      no        2     yes  yes   \n",
            "3   47   blue-collar  married    unknown      no     1506     yes   no   \n",
            "4   33       unknown   single    unknown      no        1      no   no   \n",
            "\n",
            "   contact  day month  duration  campaign  pdays  previous poutcome   y  \n",
            "0  unknown    5   may       261         1     -1         0  unknown  no  \n",
            "1  unknown    5   may       151         1     -1         0  unknown  no  \n",
            "2  unknown    5   may        76         1     -1         0  unknown  no  \n",
            "3  unknown    5   may        92         1     -1         0  unknown  no  \n",
            "4  unknown    5   may       198         1     -1         0  unknown  no  \n"
          ]
        }
      ]
    },
    {
      "cell_type": "code",
      "source": [
        "import pandas as pd\n",
        "data = {'name':['Tom', 'nick', 'krish', 'jack'],'city':['London', 'Manchester', 'Liverpool', 'Birmingham']}\n",
        "df = pd.DataFrame(data)\n",
        "# df.to_csv('Datasets/5.csv', index=True)"
      ],
      "metadata": {
        "id": "x4bar1kxGL6r"
      },
      "execution_count": null,
      "outputs": []
    },
    {
      "cell_type": "code",
      "source": [
        "import pandas as pd\n",
        "data = {\n",
        "    'Name':['Tom', 'Nick', 'John'],\n",
        "    'Age':[20, 21, 19],\n",
        "    'Salary':[1000, 2000, 1500]\n",
        "}\n",
        "df = pd.DataFrame(data)\n",
        "\n",
        "# print(df.head(2))\n",
        "# print(df.tail(2))\n",
        "\n",
        "print(df.info())\n",
        "# print(df.describe())\n",
        "# print(f\"The dataframe has {df.shape[0]} rows and {df.shape[1]} columns.\")\n",
        "# print(df['Age'])\n",
        "# print(df.iloc[0])\n",
        "# print(df.loc[df['Age'] > 20])"
      ],
      "metadata": {
        "colab": {
          "base_uri": "https://localhost:8080/"
        },
        "id": "8LJeZRGTGRj6",
        "outputId": "18f705b0-fde6-49f6-ecb0-a7d7773f4a9d"
      },
      "execution_count": null,
      "outputs": [
        {
          "output_type": "stream",
          "name": "stdout",
          "text": [
            "<class 'pandas.core.frame.DataFrame'>\n",
            "RangeIndex: 3 entries, 0 to 2\n",
            "Data columns (total 3 columns):\n",
            " #   Column  Non-Null Count  Dtype \n",
            "---  ------  --------------  ----- \n",
            " 0   Name    3 non-null      object\n",
            " 1   Age     3 non-null      int64 \n",
            " 2   Salary  3 non-null      int64 \n",
            "dtypes: int64(2), object(1)\n",
            "memory usage: 200.0+ bytes\n",
            "None\n"
          ]
        }
      ]
    },
    {
      "cell_type": "code",
      "source": [
        "import pandas as pd\n",
        "df = pd.DataFrame({\"Name\":[\"Tom\", \"Nick\", \"John\"], \"Age\":[20, 21, 19], \"Salary\":[1000, 2000, 1500]})\n",
        "# filtered_rows = df[df['Age'] > 20]\n",
        "# print(filtered_rows)\n",
        "# selected_columns = df[['Name', 'Age']]\n",
        "# print(selected_columns)\n",
        "\n",
        "# df_without_salary = df.drop(columns=['Salary'])\n",
        "# print(df_without_salary)\n",
        "\n",
        "df['Bonus'] = df['Salary'] * 0.1\n",
        "\n",
        "print(df)"
      ],
      "metadata": {
        "colab": {
          "base_uri": "https://localhost:8080/"
        },
        "id": "t7I5ivbOGTcB",
        "outputId": "667d22a3-779b-4170-9df6-00719c80bb54"
      },
      "execution_count": null,
      "outputs": [
        {
          "output_type": "stream",
          "name": "stdout",
          "text": [
            "   Name  Age  Salary  Bonus\n",
            "0   Tom   20    1000  100.0\n",
            "1  Nick   21    2000  200.0\n",
            "2  John   19    1500  150.0\n"
          ]
        }
      ]
    },
    {
      "cell_type": "code",
      "source": [
        "import pandas as pd\n",
        "from sklearn.datasets import load_iris\n",
        "import numpy as np\n",
        "iris = load_iris()\n",
        "\n",
        "iris_df = pd.DataFrame(data = np.c_[iris['data'], iris['target']], columns= iris['feature_names'] + ['target'])\n",
        "np.random.seed(42)\n",
        "mask  = np.random.rand(len(iris_df))<0.1\n",
        "iris_df[mask] = np.nan\n",
        "print(iris_df.isnull().sum())"
      ],
      "metadata": {
        "colab": {
          "base_uri": "https://localhost:8080/"
        },
        "id": "_H8td-ZFGU45",
        "outputId": "40c5911d-fbc3-4230-fdcc-fefe0d894150"
      },
      "execution_count": null,
      "outputs": [
        {
          "output_type": "stream",
          "name": "stdout",
          "text": [
            "sepal length (cm)    18\n",
            "sepal width (cm)     18\n",
            "petal length (cm)    18\n",
            "petal width (cm)     18\n",
            "target               18\n",
            "dtype: int64\n"
          ]
        }
      ]
    },
    {
      "cell_type": "markdown",
      "source": [
        "## **## To-Do-Tasks**"
      ],
      "metadata": {
        "id": "ngCQGND-GqBD"
      }
    },
    {
      "cell_type": "code",
      "source": [
        "import pandas as pd\n",
        "df = pd.read_csv(\"drive/MyDrive/Datasheets/bank .csv\")\n",
        "\n",
        "#columns witn dtype object\n",
        "print(df.select_dtypes(include=['object']).columns)\n",
        "\n",
        "#unique values of those columns\n",
        "for col in df.select_dtypes(include=['object']).columns:\n",
        "    print(col, df[col].unique())\n",
        "\n",
        "#total number of null values in each column\n",
        "print(df.isnull().sum())\n",
        "\n",
        "#Drop all the columns with dtypes object and store in new DataFrame, also write the DataFrame in”.csv” with name ”banknumericdata.csv”\n",
        "\n",
        "drop_columns = df.drop(df.select_dtypes(include=['object']).columns, axis=1)\n",
        "# drop_columns.to_csv('Datasets/banknumericdata.csv', index=False)\n"
      ],
      "metadata": {
        "colab": {
          "base_uri": "https://localhost:8080/"
        },
        "id": "xZoDOe9hGmPu",
        "outputId": "d7b8a962-9251-4928-aaca-40073e27c267"
      },
      "execution_count": null,
      "outputs": [
        {
          "output_type": "stream",
          "name": "stdout",
          "text": [
            "Index(['job', 'marital', 'education', 'default', 'housing', 'loan', 'contact',\n",
            "       'month', 'poutcome', 'y'],\n",
            "      dtype='object')\n",
            "job ['management' 'technician' 'entrepreneur' 'blue-collar' 'unknown'\n",
            " 'retired' 'admin.' 'services' 'self-employed' 'unemployed' 'housemaid'\n",
            " 'student']\n",
            "marital ['married' 'single' 'divorced']\n",
            "education ['tertiary' 'secondary' 'unknown' 'primary']\n",
            "default ['no' 'yes']\n",
            "housing ['yes' 'no']\n",
            "loan ['no' 'yes']\n",
            "contact ['unknown' 'cellular' 'telephone']\n",
            "month ['may' 'jun' 'jul' 'aug' 'oct' 'nov' 'dec' 'jan' 'feb' 'mar' 'apr' 'sep']\n",
            "poutcome ['unknown' 'failure' 'other' 'success']\n",
            "y ['no' 'yes']\n",
            "age          0\n",
            "job          0\n",
            "marital      0\n",
            "education    0\n",
            "default      0\n",
            "balance      0\n",
            "housing      0\n",
            "loan         0\n",
            "contact      0\n",
            "day          0\n",
            "month        0\n",
            "duration     0\n",
            "campaign     0\n",
            "pdays        0\n",
            "previous     0\n",
            "poutcome     0\n",
            "y            0\n",
            "dtype: int64\n"
          ]
        }
      ]
    },
    {
      "cell_type": "code",
      "source": [
        "import pandas as pd\n",
        "df = pd.read_csv(\"drive/MyDrive/Datasheets/medical_students_dataset.csv\")\n",
        "\n",
        "print(\"Dataset infromation:\")\n",
        "# print(df.info())\n",
        "\n",
        "print(\"Sample data:\")\n",
        "# print(df.head())\n",
        "\n",
        "\"\"\"\n",
        "Age: Filled with the median since age data often have outliers, and the median provides a more robust central value.\n",
        "BMI: Calculated directly using height and weight where possible; for remaining missing values, the median was used.\n",
        "Temperature: Imputed with the mean since body temperature is generally centered around a standard value.\n",
        "Smoking,Blood Type, Gender: Filled with the mode as these are categorical variables.\n",
        "Height, Blood Pressure: Filled with the median as these are numerical and the median handles variability better.\n",
        "\"\"\"\n",
        "\n",
        "# missing values\n",
        "#fill student id with the increment of 1 from the previous id\n",
        "df['Student ID'].fillna(method='ffill',inplace=True)\n",
        "df['Age']=df['Age'].fillna(df[\"Age\"].median())\n",
        "\n",
        "\n",
        "#BMI = weight (kg) / (height (m) * height (m))\n",
        "bmi_missing = df['BMI'].isnull()\n",
        "df.loc[bmi_missing,'BMI'] = df.loc[bmi_missing,'Weight']/((df.loc[bmi_missing,'Height']/100)**2)\n",
        "df['BMI'] = df['BMI'].fillna(df['BMI'].median())\n",
        "\n",
        "#Temperature\n",
        "df['Temperature'] = df['Temperature'].fillna(df['Temperature'].mean())\n",
        "\n",
        "# Smoking,Gender,Blood Type\n",
        "df['Smoking'] = df['Smoking'].fillna(df['Smoking'].mode()[0])\n",
        "df['Gender'] = df['Gender'].fillna(df['Gender'].mode()[0])\n",
        "df['Blood Type'] = df['Blood Type'].fillna(df['Blood Type'].mode()[0])\n",
        "\n",
        "# Height, Blood Pressure, Weight\n",
        "df['Height'] = df['Height'].fillna(df['Height'].median())\n",
        "df['Blood Pressure'] = df['Blood Pressure'].fillna(df['Blood Pressure'].median())\n",
        "df['Weight'] = df['Weight'].fillna(df['Weight'].median())\n",
        "\n",
        "print(df.isnull().sum())\n",
        "\n",
        "# df.to_csv('Datasets/medical_students_dataset_cleaned.csv',index=False)"
      ],
      "metadata": {
        "colab": {
          "base_uri": "https://localhost:8080/"
        },
        "id": "VXQZ3VhUGy24",
        "outputId": "e9f39e04-9710-4a49-d51d-9b1c56962f32"
      },
      "execution_count": null,
      "outputs": [
        {
          "output_type": "stream",
          "name": "stdout",
          "text": [
            "Dataset infromation:\n",
            "Sample data:\n"
          ]
        },
        {
          "output_type": "stream",
          "name": "stderr",
          "text": [
            "<ipython-input-13-cd134dc3614a>:20: FutureWarning: A value is trying to be set on a copy of a DataFrame or Series through chained assignment using an inplace method.\n",
            "The behavior will change in pandas 3.0. This inplace method will never work because the intermediate object on which we are setting values always behaves as a copy.\n",
            "\n",
            "For example, when doing 'df[col].method(value, inplace=True)', try using 'df.method({col: value}, inplace=True)' or df[col] = df[col].method(value) instead, to perform the operation inplace on the original object.\n",
            "\n",
            "\n",
            "  df['Student ID'].fillna(method='ffill',inplace=True)\n",
            "<ipython-input-13-cd134dc3614a>:20: FutureWarning: Series.fillna with 'method' is deprecated and will raise in a future version. Use obj.ffill() or obj.bfill() instead.\n",
            "  df['Student ID'].fillna(method='ffill',inplace=True)\n"
          ]
        },
        {
          "output_type": "stream",
          "name": "stdout",
          "text": [
            "Student ID            0\n",
            "Age                   0\n",
            "Gender                0\n",
            "Height                0\n",
            "Weight                0\n",
            "Blood Type            0\n",
            "BMI                   0\n",
            "Temperature           0\n",
            "Heart Rate        20000\n",
            "Blood Pressure        0\n",
            "Cholesterol       20000\n",
            "Diabetes          20000\n",
            "Smoking               0\n",
            "dtype: int64\n"
          ]
        }
      ]
    },
    {
      "cell_type": "code",
      "source": [
        "import pandas as pd\n",
        "df = pd.read_csv(\"drive/MyDrive/Datasheets/Titanic-Dataset.csv\")\n",
        "\n",
        "#Problem 1\n",
        "subset_df = df[df['Pclass'] == 1][['Name','Sex','Age','Fare','Survived']]\n",
        "\n",
        "#mean,median,max,min of fare\n",
        "print(\"The mean of fare is\",subset_df['Fare'].mean())\n",
        "print(\"The median of fare is\",subset_df['Fare'].median())\n",
        "print(\"The max of fare is\",subset_df['Fare'].max())\n",
        "print(\"The min of fare is\",subset_df['Fare'].min())\n",
        "\n",
        "#Problem 2\n",
        "print(\"The total value of null value in age is\",subset_df['Age'].isnull().sum())\n",
        "subset_df = subset_df.dropna(subset=['Age'])\n",
        "print(\"The total value of null value in age is\",subset_df['Age'].isnull().sum())\n",
        "\n",
        "#Problem 3\n",
        "one_hot_encoding = pd.get_dummies(df, columns=['Embarked'],prefix='Embarked')\n",
        "df_encoded = pd.concat([df,one_hot_encoding],axis=1)\n",
        "df.drop(columns=['Embarked'],inplace=True)\n",
        "print(df_encoded.head())\n",
        "# df.to_csv(\"Datasets/Titanic-Datasettry.csv\",index=False)\n",
        "\n",
        "#Problem 4\n",
        "import matplotlib.pyplot as plt\n",
        "import seaborn as sns\n",
        "mean_survival = df.groupby('Sex')['Survived'].mean()\n",
        "print(mean_survival)\n",
        "plt.figure(figsize=(10,5))\n",
        "sns.barplot(x=mean_survival.index,y=mean_survival.values)\n",
        "plt.title(\"Mean survival rates by Gender\")\n",
        "plt.xlabel(\"Gender\")\n",
        "plt.ylabel(\"Mean Survival Rate\")\n",
        "plt.show()\n",
        "\n",
        "#Problem 5\n",
        "# mean_survival = df.groupby('Embarked')['Survived'].mean()\n",
        "# print(mean_survival)\n",
        "\n",
        "plt.figure(figsize=(10,5))\n",
        "sns.barplot(x=mean_survival.index,y=mean_survival.values)\n",
        "plt.title(\"Mean survival rates by Embarked\")\n",
        "plt.xlabel(\"Embarked\")\n",
        "plt.ylabel(\"Mean Survival Rate\")\n",
        "plt.show()"
      ],
      "metadata": {
        "colab": {
          "base_uri": "https://localhost:8080/",
          "height": 1000
        },
        "id": "yGCzmMyLG1tU",
        "outputId": "1972485a-dd03-45fe-cc87-4eadd2ced9ce"
      },
      "execution_count": null,
      "outputs": [
        {
          "output_type": "stream",
          "name": "stdout",
          "text": [
            "The mean of fare is 84.1546875\n",
            "The median of fare is 60.287499999999994\n",
            "The max of fare is 512.3292\n",
            "The min of fare is 0.0\n",
            "The total value of null value in age is 30\n",
            "The total value of null value in age is 0\n",
            "   PassengerId  Survived  Pclass  \\\n",
            "0            1         0       3   \n",
            "1            2         1       1   \n",
            "2            3         1       3   \n",
            "3            4         1       1   \n",
            "4            5         0       3   \n",
            "\n",
            "                                                Name     Sex   Age  SibSp  \\\n",
            "0                            Braund, Mr. Owen Harris    male  22.0      1   \n",
            "1  Cumings, Mrs. John Bradley (Florence Briggs Th...  female  38.0      1   \n",
            "2                             Heikkinen, Miss. Laina  female  26.0      0   \n",
            "3       Futrelle, Mrs. Jacques Heath (Lily May Peel)  female  35.0      1   \n",
            "4                           Allen, Mr. William Henry    male  35.0      0   \n",
            "\n",
            "   Parch            Ticket     Fare  ...     Sex   Age  SibSp  Parch  \\\n",
            "0      0         A/5 21171   7.2500  ...    male  22.0      1      0   \n",
            "1      0          PC 17599  71.2833  ...  female  38.0      1      0   \n",
            "2      0  STON/O2. 3101282   7.9250  ...  female  26.0      0      0   \n",
            "3      0            113803  53.1000  ...  female  35.0      1      0   \n",
            "4      0            373450   8.0500  ...    male  35.0      0      0   \n",
            "\n",
            "             Ticket     Fare Cabin  Embarked_C  Embarked_Q  Embarked_S  \n",
            "0         A/5 21171   7.2500   NaN       False       False        True  \n",
            "1          PC 17599  71.2833   C85        True       False       False  \n",
            "2  STON/O2. 3101282   7.9250   NaN       False       False        True  \n",
            "3            113803  53.1000  C123       False       False        True  \n",
            "4            373450   8.0500   NaN       False       False        True  \n",
            "\n",
            "[5 rows x 26 columns]\n",
            "Sex\n",
            "female    0.742038\n",
            "male      0.188908\n",
            "Name: Survived, dtype: float64\n"
          ]
        },
        {
          "output_type": "display_data",
          "data": {
            "text/plain": [
              "<Figure size 1000x500 with 1 Axes>"
            ],
            "image/png": "[encoded data removed]"
          },
          "metadata": {}
        },
        {
          "output_type": "display_data",
          "data": {
            "text/plain": [
              "<Figure size 1000x500 with 1 Axes>"
            ],
            "image/png": "[encoded data removed]"
          },
          "metadata": {}
        }
      ]
    }
  ]
}